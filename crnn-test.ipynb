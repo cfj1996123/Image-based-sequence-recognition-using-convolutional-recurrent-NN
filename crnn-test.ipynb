{
 "cells": [
  {
   "cell_type": "code",
   "execution_count": 2,
   "metadata": {},
   "outputs": [],
   "source": [
    "import torch\n",
    "import torch.nn as nn\n",
    "import torchvision.models as models\n",
    "from torch.utils.data import Dataset, DataLoader\n",
    "from torchvision.transforms import Compose\n",
    "\n",
    "import json\n",
    "from os.path import join\n",
    "import cv2\n",
    "import numpy as np"
   ]
  },
  {
   "cell_type": "code",
   "execution_count": 3,
   "metadata": {},
   "outputs": [],
   "source": [
    "class crnn(nn.Module):\n",
    "    def __init__(self, hid_dim, char_dim):\n",
    "        super().__init__()\n",
    "        ## (batch_size,3,a,b) --> (batch_size,512,a/32,b/32)\n",
    "        self.vgg16 = models.vgg16(pretrained = True).features\n",
    "        ## (seq_len,batch_size,dim1) --> (seq_len,batch_size,2*hid_dim)\n",
    "        self.bilstm = nn.LSTM(input_size=512*7, hidden_size=hid_dim, batch_first=False,\n",
    "                             dropout=0, bidirectional=True)\n",
    "        self.linear1 = nn.linear(in_features=2*hid_dim,out_features=char_dim,bias=True)\n",
    "    \n",
    "    def forward(self, x):\n",
    "        x = self.vgg16(x)\n",
    "        x = x.permute(3,0,1,2)\n",
    "        size = x.size()\n",
    "        z = x.view(size[0], size[1], size[2]*size[3])\n",
    "        z = self.bilstm(z)[0]\n",
    "        z = self.linear1(z) # out: (seq_len,batch_size,char_dim)\n",
    "        \n",
    "        return z\n",
    "\n",
    "class coco_train(Dataset):\n",
    "    def __init__(self, root_dir, annotation, transform=None):\n",
    "        with open(join(root_dir,annotation)) as f:\n",
    "            myanno = json.load(f)\n",
    "        \n",
    "        self.mydict = myanno['abc'] # type: str\n",
    "        self.root_dir = root_dir\n",
    "        self.annotation = myanno['train'] # list of dicts {'text':..., 'name':...}\n",
    "        self.transform = transform\n",
    "    \n",
    "    def __len__(self):\n",
    "        return len(self.annotation)\n",
    "    \n",
    "    def __getitem__(self, idx):\n",
    "        \n",
    "        img_name = self.annotation[idx]['name']\n",
    "        text = self.annotation[idx]['text']\n",
    "        \n",
    "        img = cv2.imread(join(self.root_dir,img_name)) # shape: row * col * channels\n",
    "\n",
    "        seq = self.text_to_seq(text)\n",
    "        sample = { 'text':seq, 'image':img }\n",
    "        if self.transform:\n",
    "            sample = self.transform(sample)\n",
    "            \n",
    "        return sample\n",
    "    \n",
    "    def text_to_seq(self, text):\n",
    "        return [ self.mydict.index(char) for char in text ]\n",
    "\n",
    "    \n",
    "    \n",
    "# data transform\n",
    "class resize:\n",
    "    def __init__(self, size=(224,224)):\n",
    "        self.size = size\n",
    "    \n",
    "    def __call__(self, sample):\n",
    "        sample['image'] = cv2.resize(sample['image'], self.size)\n",
    "        return sample\n",
    "\n",
    "# strategy to combine a batch of data\n",
    "def data_collate(batch):\n",
    "    img = []\n",
    "    seq = []\n",
    "    seq_len = []\n",
    "    for sample in batch:\n",
    "        img.append(torch.from_numpy(sample['image'].transpose((2,0,1))).float())\n",
    "        seq.extend(sample['text'])\n",
    "        seq_len.append( len(sample['text']) )\n",
    "    \n",
    "    img = torch.stack(img)\n",
    "    seq = torch.Tensor(seq).int()\n",
    "    seq_len = torch.Tensor(seq_len).int()\n",
    "    \n",
    "    batch = {\"img\": img, \"seq\": seq, \"seq_len\": seq_len}\n",
    "    return batch\n"
   ]
  },
  {
   "cell_type": "code",
   "execution_count": null,
   "metadata": {},
   "outputs": [],
   "source": [
    "transform = Compose([ resize(size=(224,224)) ])\n",
    "\n",
    "\n",
    "trainset = coco_train(root_dir='cropped_COCO',annotation='desc.json', transform=transform)\n",
    "\n",
    "#trainset.__getitem__(0)\n",
    "\n",
    "trainloader = torch.utils.data.DataLoader(trainset, batch_size=32,\n",
    "                                          shuffle=True, num_workers=1, collate_fn=data_collate)\n",
    "\n",
    "next(iter(trainloader))\n",
    "# for i, data in enumerate(trainloader):\n",
    "#         if i == 0:\n",
    "#             print(data)"
   ]
  },
  {
   "cell_type": "code",
   "execution_count": 2,
   "metadata": {},
   "outputs": [
    {
     "data": {
      "text/plain": [
       "(19, 54, 3)"
      ]
     },
     "execution_count": 2,
     "metadata": {},
     "output_type": "execute_result"
    }
   ],
   "source": [
    "img = cv2.imread('/home/kernellabs/Desktop/crnn/cropped_COCO/test0_COCO_train2014_000000023203.jpg')\n",
    "img.shape"
   ]
  },
  {
   "cell_type": "code",
   "execution_count": null,
   "metadata": {},
   "outputs": [],
   "source": [
    "net = crnn(128)\n",
    "x = torch.randn(32,3,224,224)\n",
    "out = net.forward(x)\n",
    "out.size()"
   ]
  },
  {
   "cell_type": "code",
   "execution_count": null,
   "metadata": {},
   "outputs": [],
   "source": [
    "x = torch.randn(1,2,3,4)\n",
    "print(type(x.size()))\n",
    "\n",
    "print( x.permute(3,0,1,2).size() )"
   ]
  }
 ],
 "metadata": {
  "kernelspec": {
   "display_name": "Python 3",
   "language": "python",
   "name": "python3"
  },
  "language_info": {
   "codemirror_mode": {
    "name": "ipython",
    "version": 3
   },
   "file_extension": ".py",
   "mimetype": "text/x-python",
   "name": "python",
   "nbconvert_exporter": "python",
   "pygments_lexer": "ipython3",
   "version": "3.6.0"
  }
 },
 "nbformat": 4,
 "nbformat_minor": 2
}
